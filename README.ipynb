{
 "cells": [
  {
   "cell_type": "markdown",
   "metadata": {},
   "source": [
    "##Models of autocratic regime failure\n",
    "\n",
    "This repository hosts several Python and R scripts for feature engineering, imputation, analysis, and visualization related to the analysis of authoritarian regime breakdown and democratic transition. The analysis is focused on the spillover effects of regime failures on future regime failures abroad, where the influence is captured by various operationalizations of *distance*, including geographic, linguistic, and economic distances between countries. \n",
    "\n",
    "The code in this repository uses [regime data from Geddes, Wright, and Frantz](http://dictators.la.psu.edu/ 'Autocratic Regimes') to construct spatiotemporal lags of regime failure. A demonstration of the procedure to construct these lags is in the [IPython Notebook titled `space_time_lags.ipynb`](https://github.com/thomasbrawner/regime_failure/blob/master/space_time_lags.ipynb). Missing data are imputed with the [Amelia II library in R](http://gking.harvard.edu/amelia 'Amelia II: A Program for Missing Data'). The main programs for carrying out the analysis are located in the Python file [`dissertation.py`](https://github.com/thomasbrawner/regime_failure/blob/master/dissertation.py), which formats the imputed data sets for analysis, performs rolling cross-validation over years to optimize hyperparameters for the classifiers, and aggregates the performance of the models over imputations. \n",
    "\n",
    "To demonstrate the analysis, below I present a model of autocratic failure as a function of the spatiotemporal lag of autocratic failures weighted by geographic distance. In this example I use a logistic regression model with $L2$ regularization. Start by importing modules and defining some helper functions for reading and formatting the imputed data sets. "
   ]
  },
  {
   "cell_type": "code",
   "execution_count": 1,
   "metadata": {
    "collapsed": true
   },
   "outputs": [],
   "source": [
    "from __future__ import print_function\n",
    "%matplotlib inline \n",
    "import dissertation as diss\n",
    "import matplotlib.pyplot as plt \n",
    "import numpy as np \n",
    "import pandas as pd \n",
    "import seaborn as sns \n",
    "from sklearn.linear_model import LogisticRegression\n",
    "sns.set_style('whitegrid') \n",
    "\n",
    "\n",
    "def prepare_data(file_path, dep_var, lag_var, factors, scale=False): \n",
    "    df = pd.read_table(file_path, sep=',', index_col=0)\n",
    "    df = diss.DataFormatter(df, depvar=dep_var)\n",
    "    df.set_specification(lag=lag_var, factors=factors)\n",
    "    df.format_features(scale=scale)\n",
    "    return df\n",
    "\n",
    "def make_file_path(number): \n",
    "    return 'clean_data/imputation_{0}.csv'.format(str(number))"
   ]
  },
  {
   "cell_type": "markdown",
   "metadata": {},
   "source": [
    "Read and format each of the imputed data sets, setting the specification for the model of autocratic failure with the spatiotemporal lag of autocratic failures (weighted by geographic distance). "
   ]
  },
  {
   "cell_type": "code",
   "execution_count": 2,
   "metadata": {
    "collapsed": true
   },
   "outputs": [],
   "source": [
    "data_list = [prepare_data(file_path=make_file_path(i), \n",
    "                          dep_var='failure', \n",
    "                          lag_var='failure_failure_geographic_lag', \n",
    "                          factors=['region_', 'period_'], \n",
    "                          scale=True)\n",
    "             for i in xrange(1, 11)]"
   ]
  },
  {
   "cell_type": "markdown",
   "metadata": {},
   "source": [
    "Again, the classifier used in this example is logistic regression with $L2$ regularization. As such, we want an instance of this classifier from **`sklearn`** and a dictionary of hyperparameters over which to optimize performance, in this case $C$. The default setting is to optimize parameters with respect to area under the ROC curve.\n",
    "\n",
    "In the end, we define an instance of the `Melder` class, which is the primary program for performing the analysis. Its function is to determine optimal classifier parameterization and then evaluate model performance across the imputed data sets. We pass the list of formatted imputed data sets along with the classifier and parameters to instantiate. "
   ]
  },
  {
   "cell_type": "code",
   "execution_count": 3,
   "metadata": {
    "collapsed": false
   },
   "outputs": [],
   "source": [
    "ridge = LogisticRegression(penalty='l2')\n",
    "params = {'C' : np.logspace(-3, -1)}\n",
    "melder = diss.Melder(data_list, ridge, params)"
   ]
  },
  {
   "cell_type": "markdown",
   "metadata": {},
   "source": [
    "Now we want to evaluate the optimal parameterization for each of the imputed data sets, as follows. "
   ]
  },
  {
   "cell_type": "code",
   "execution_count": 4,
   "metadata": {
    "collapsed": false
   },
   "outputs": [
    {
     "name": "stderr",
     "output_type": "stream",
     "text": [
      "[************************************************************************]100% \n"
     ]
    }
   ],
   "source": [
    "%%capture\n",
    "melder.evaluate_models(); "
   ]
  },
  {
   "cell_type": "markdown",
   "metadata": {},
   "source": [
    "We can see the optimal level of regularization for each of these models. "
   ]
  },
  {
   "cell_type": "code",
   "execution_count": 5,
   "metadata": {
    "collapsed": false
   },
   "outputs": [
    {
     "name": "stdout",
     "output_type": "stream",
     "text": [
      "{'C': 0.039069399370546147}\n",
      "{'C': 0.091029817799152174}\n",
      "{'C': 0.082864277285468427}\n",
      "{'C': 0.10000000000000001}\n",
      "{'C': 0.091029817799152174}\n",
      "{'C': 0.10000000000000001}\n",
      "{'C': 0.0625055192527397}\n",
      "{'C': 0.10000000000000001}\n",
      "{'C': 0.068664884500429985}\n",
      "{'C': 0.0517947467923121}\n"
     ]
    }
   ],
   "source": [
    "[print(melder.model_evaluations[i].optimal_params) for i in xrange(len(data_list))]; "
   ]
  },
  {
   "cell_type": "markdown",
   "metadata": {},
   "source": [
    "Having done this, we can combine the predicted probabilities from the optimized models fit on each of the imputations. "
   ]
  },
  {
   "cell_type": "code",
   "execution_count": 6,
   "metadata": {
    "collapsed": false
   },
   "outputs": [
    {
     "name": "stderr",
     "output_type": "stream",
     "text": [
      "[************************************************************************]100% \n"
     ]
    }
   ],
   "source": [
    "%%capture\n",
    "predictions = melder.meld_predictions(); "
   ]
  },
  {
   "cell_type": "markdown",
   "metadata": {},
   "source": [
    "Which we can then visualize in histogram. "
   ]
  },
  {
   "cell_type": "code",
   "execution_count": 7,
   "metadata": {
    "collapsed": false
   },
   "outputs": [
    {
     "data": {
      "image/png": "[encoded data removed]",
      "text/plain": [
       "<matplotlib.figure.Figure at 0x103b9c290>"
      ]
     },
     "metadata": {},
     "output_type": "display_data"
    }
   ],
   "source": [
    "plt.figure(figsize=(8,5))\n",
    "plt.hist(predictions, bins=20, alpha=0.5, color='k')\n",
    "plt.xlabel('Predicted Probabilities', labelpad=11); "
   ]
  },
  {
   "cell_type": "markdown",
   "metadata": {},
   "source": [
    "Finally, we can extract and visualize the coefficient estimates averaged across the models. The sampling distribution for the estimates is obtained by evaluating the model on 100 bootstrap samples drawn from each of the ten imputed data sets, resulting in 1000 estimates. "
   ]
  },
  {
   "cell_type": "code",
   "execution_count": 8,
   "metadata": {
    "collapsed": false
   },
   "outputs": [
    {
     "name": "stderr",
     "output_type": "stream",
     "text": [
      "[************************************************************************]100% \n"
     ]
    }
   ],
   "source": [
    "%%capture\n",
    "boot_estimates = melder.meld_estimates(); "
   ]
  },
  {
   "cell_type": "markdown",
   "metadata": {},
   "source": [
    "In place of a regression table with coefficient estimates and standard errors, I present these results with boxplots of the 1000 bootstrap estimates for each of the key variables in the model. Notably, I suppress the estimates for region and two-year period dummies. "
   ]
  },
  {
   "cell_type": "code",
   "execution_count": 9,
   "metadata": {
    "collapsed": false,
    "scrolled": true
   },
   "outputs": [
    {
     "data": {
      "image/png": "[encoded data removed]",
      "text/plain": [
       "<matplotlib.figure.Figure at 0x103b9c990>"
      ]
     },
     "metadata": {},
     "output_type": "display_data"
    }
   ],
   "source": [
    "names = data_list[0].specification\n",
    "plt.figure(figsize=(10, 5))\n",
    "diss.boxplot_estimates(boot_estimates, names, ignore=['region_', 'period_'])"
   ]
  }
 ],
 "metadata": {
  "kernelspec": {
   "display_name": "Python 2",
   "language": "python",
   "name": "python2"
  },
  "language_info": {
   "codemirror_mode": {
    "name": "ipython",
    "version": 2
   },
   "file_extension": ".py",
   "mimetype": "text/x-python",
   "name": "python",
   "nbconvert_exporter": "python",
   "pygments_lexer": "ipython2",
   "version": "2.7.10"
  }
 },
 "nbformat": 4,
 "nbformat_minor": 0
}
