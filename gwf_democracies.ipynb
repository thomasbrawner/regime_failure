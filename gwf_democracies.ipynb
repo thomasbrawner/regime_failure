{
 "metadata": {
  "name": "",
  "signature": "sha256:4580a6a3932f5184cf63a937ed184e5e972aa3a7ad39732936188471fa8cbc64"
 },
 "nbformat": 3,
 "nbformat_minor": 0,
 "worksheets": [
  {
   "cells": [
    {
     "cell_type": "heading",
     "level": 1,
     "metadata": {},
     "source": [
      "Democratic neighborhoods"
     ]
    },
    {
     "cell_type": "markdown",
     "metadata": {},
     "source": [
      "This document describes the generation of variables intended to capture the percentage of democratic states in the geographic neighborhood surrounding authoritarian regimes over time. The regime data used are the <a href=\"http://sites.psu.edu/dictators/\">Geddes, Wright, &amp; Frantz (2014) regimes data</a>, hereinafter GWF, and the distance metric I employ is the distance in kilometers between capital cities, available on <a href=\"http://privatewww.essex.ac.uk/~ksg/data-5.html\">Kristian Skrede Gleditsch's website</a>. I use a set of percentiles, {.10, .25, .50, .75}, in the distribution of this distance to allow consideration of a range of neighborhoods that could influence authoritarian regime behavior. The different neighborhood definitions are intended to correspond to the spatiotemporal lag of failure rates within the same geographic neighborhood, described in a separate document.\n",
      "\n",
      "Load the relevant libraries and print the Python and Pandas versions being used here."
     ]
    },
    {
     "cell_type": "code",
     "collapsed": false,
     "input": [
      "import requests, zipfile, StringIO\n",
      "import sys\n",
      "import numpy as np\n",
      "import pandas as pd\n",
      "import matplotlib.pyplot as plt\n",
      "import matplotlib.pylab as pylab\n",
      "from IPython.display import Math\n",
      "\n",
      "print 'Python version ' + sys.version\n",
      "print 'Pandas version ' + pd.__version__"
     ],
     "language": "python",
     "metadata": {},
     "outputs": [
      {
       "output_type": "stream",
       "stream": "stdout",
       "text": [
        "Python version 2.7.7 |Anaconda 2.0.1 (64-bit)| (default, Jun 11 2014, 10:40:02) [MSC v.1500 64 bit (AMD64)]\n",
        "Pandas version 0.14.0\n"
       ]
      }
     ],
     "prompt_number": 1
    },
    {
     "cell_type": "markdown",
     "metadata": {},
     "source": [
      "Start by downloading and extracting the GWF data, using here the data file that includes all democratic and non-democratic regimes."
     ]
    },
    {
     "cell_type": "code",
     "collapsed": false,
     "input": [
      "gwf_data_url = 'http://sites.psu.edu/dictators/wp-content/uploads/sites/12570/2014/07/GWF-Autocratic-Regimes-1.2.zip'\n",
      "r = requests.get(gwf_data_url)\n",
      "z = zipfile.ZipFile(StringIO.StringIO(r.content))\n",
      "z.extract('GWF Autocratic Regimes 1.2/GWF_AllPoliticalRegimes.txt');\n",
      "\n",
      "gwf = pd.read_table('GWF Autocratic Regimes 1.2/GWF_AllPoliticalRegimes.txt')\n",
      "print gwf.shape\n",
      "print gwf.columns"
     ],
     "language": "python",
     "metadata": {},
     "outputs": [
      {
       "output_type": "stream",
       "stream": "stdout",
       "text": [
        "(7954, 16)\n",
        "Index([u'cowcode', u'year', u'gwf_casename', u'gwf_country', u'gwf_regimetype', u'gwf_next', u'gwf_prior', u'gwf_spell', u'gwf_duration', u'gwf_fail', u'gwf_party', u'gwf_military', u'gwf_monarchy', u'gwf_personal', u'gwf_nonautocracy', u'gwf_disagree'], dtype='object')\n"
       ]
      }
     ],
     "prompt_number": 2
    },
    {
     "cell_type": "markdown",
     "metadata": {},
     "source": [
      "Now load the distance data. "
     ]
    },
    {
     "cell_type": "code",
     "collapsed": false,
     "input": [
      "dist = pd.read_csv('http://privatewww.essex.ac.uk/~ksg/data/capdist.csv')\n",
      "print dist.shape\n",
      "print dist.columns"
     ],
     "language": "python",
     "metadata": {},
     "outputs": [
      {
       "output_type": "stream",
       "stream": "stdout",
       "text": [
        "(41006, 6)\n",
        "Index([u'numa', u'ida', u'numb', u'idb', u'kmdist', u'midist'], dtype='object')\n"
       ]
      }
     ],
     "prompt_number": 3
    },
    {
     "cell_type": "markdown",
     "metadata": {},
     "source": [
      "We can start by subsetting each data frame to the columns of interest. For `gwf`, we should keep the cowcode, the year, and regime types. For `dist`, we only want the cowcodes for the dyad and the distance in kilometers between the capital cities of the countries in the dyad. "
     ]
    },
    {
     "cell_type": "code",
     "collapsed": false,
     "input": [
      "gwf = gwf[['cowcode','year','gwf_regimetype']]\n",
      "dist = dist[['numa','numb','kmdist']]"
     ],
     "language": "python",
     "metadata": {},
     "outputs": [],
     "prompt_number": 4
    },
    {
     "cell_type": "markdown",
     "metadata": {},
     "source": [
      "Create a new indicator variable to distinguish democracies from all other regime types, then drop the regime type variable."
     ]
    },
    {
     "cell_type": "code",
     "collapsed": false,
     "input": [
      "gwf['democracy'] = np.nan\n",
      "gwf['democracy'][pd.isnull(gwf['gwf_regimetype'])] = 1\n",
      "gwf['democracy'][pd.notnull(gwf['gwf_regimetype'])] = 0\n",
      "gwf.drop(['gwf_regimetype'], axis = 1, inplace = True)"
     ],
     "language": "python",
     "metadata": {},
     "outputs": [],
     "prompt_number": 5
    },
    {
     "cell_type": "markdown",
     "metadata": {},
     "source": [
      "Because we are ultimately interested in authoritarian regimes, we can generate a subset of the total regime observations for producing the measure. This reduces the computational load below. "
     ]
    },
    {
     "cell_type": "code",
     "collapsed": false,
     "input": [
      "auth = gwf[gwf['democracy'] == 0]\n",
      "print auth.shape"
     ],
     "language": "python",
     "metadata": {},
     "outputs": [
      {
       "output_type": "stream",
       "stream": "stdout",
       "text": [
        "(4591, 3)\n"
       ]
      }
     ],
     "prompt_number": 6
    },
    {
     "cell_type": "markdown",
     "metadata": {},
     "source": [
      "Now we want to consider all possible combinations of authoritarian observations, one the one hand, and all observations of any regime type. For this I use a function, `expand_grid`, which works like the R function `expand.grid`. I took it from <a href=\"http://stackoverflow.com/questions/12130883/r-expand-grid-function-in-python\">this discussion on Stack Overflow</a>."
     ]
    },
    {
     "cell_type": "code",
     "collapsed": false,
     "input": [
      "def expand_grid(x, y):\n",
      "    xg, yg = np.meshgrid(x, y, copy = False)\n",
      "    xg = xg.flatten()\n",
      "    yg = yg.flatten() \n",
      "    return pd.DataFrame({'x' : xg, 'y' : yg})"
     ],
     "language": "python",
     "metadata": {},
     "outputs": [],
     "prompt_number": 7
    },
    {
     "cell_type": "markdown",
     "metadata": {},
     "source": [
      "The first step will be to expand the vectors of years. This will allow us to omit a large number of the observations in the expanded data that are not from the same year."
     ]
    },
    {
     "cell_type": "code",
     "collapsed": false,
     "input": [
      "exdata = expand_grid(auth['year'], gwf['year'])\n",
      "exdata.columns = ['year1','year2']\n",
      "exdata = exdata[exdata['year1'] == exdata['year2']]"
     ],
     "language": "python",
     "metadata": {},
     "outputs": [],
     "prompt_number": 8
    },
    {
     "cell_type": "markdown",
     "metadata": {},
     "source": [
      "Now we can leverage the fact that the subset of the expanded data has retained its row indices from the full expansion. Then we can merge the expansion of the cowcodes vectors and omit any dyads of the same country. "
     ]
    },
    {
     "cell_type": "code",
     "collapsed": false,
     "input": [
      "exdata = pd.merge(exdata, expand_grid(auth['cowcode'], gwf['cowcode']), left_index = True, right_index = True)\n",
      "exdata.rename(columns = {'x' : 'cowcode1', 'y' : 'cowcode2'}, inplace = True)\n",
      "exdata = exdata[exdata['cowcode1'] != exdata['cowcode2']]"
     ],
     "language": "python",
     "metadata": {},
     "outputs": [],
     "prompt_number": 9
    },
    {
     "cell_type": "markdown",
     "metadata": {},
     "source": [
      "Finally, we merge the expansion of the democracy indicator, again using the row index. "
     ]
    },
    {
     "cell_type": "code",
     "collapsed": false,
     "input": [
      "exdata = pd.merge(exdata, expand_grid(auth['democracy'], gwf['democracy']), left_index = True, right_index = True)\n",
      "exdata.rename(columns = {'x' : 'democracy1', 'y' : 'democracy2'}, inplace = True)\n",
      "exdata.sort(['cowcode1','year1','cowcode2'], inplace = True)\n",
      "print exdata.shape\n",
      "print exdata.head()"
     ],
     "language": "python",
     "metadata": {},
     "outputs": [
      {
       "output_type": "stream",
       "stream": "stdout",
       "text": [
        "(574576, 6)\n",
        "         year1  year2  cowcode1  cowcode2  democracy1  democracy2\n",
        "32137     1953   1953        40         2           0           1\n",
        "330552    1953   1953        40        20           0           1\n",
        "927382    1953   1953        40        41           0           0\n",
        "1225797   1953   1953        40        42           0           0\n",
        "1524212   1953   1953        40        70           0           0\n"
       ]
      }
     ],
     "prompt_number": 10
    },
    {
     "cell_type": "markdown",
     "metadata": {},
     "source": [
      "This yields a data frame of dyads with 574,576 rows and 6 columns. Sorting on cowcodes for the authoritarian countries, given by `cowcode1`, we see that the first observation in the data is Cuba in 1953, as we would expect from the GWF data, and it is paired with the United States in 1953, which is coded as a democracy. Now we can set about applying constraints to these dyads in terms of the geographic distance between their capital cities."
     ]
    },
    {
     "cell_type": "markdown",
     "metadata": {},
     "source": [
      "As mentioned above, we want to set up a range of geographic neighborhoods to consider, just as we want to consider a range of neighborhoods in the spatiotemporal lag of failure rates. That is, within a specified radius, what percentage of the countries are democratic, and in what percentage of the authoritarian countries do we observe a regime failure. That radius is defined in terms of the 10th, 25th, 50th, and 75th percentiles in the distribution of the distance variable. "
     ]
    },
    {
     "cell_type": "code",
     "collapsed": false,
     "input": [
      "neighborhoods = (dist['kmdist'].describe(percentiles = [.10, .25, .50, .75])[4:8]).tolist()\n",
      "print neighborhoods"
     ],
     "language": "python",
     "metadata": {},
     "outputs": [
      {
       "output_type": "stream",
       "stream": "stdout",
       "text": [
        "[1977.0, 4256.0, 7196.0, 10575.0]\n"
       ]
      }
     ],
     "prompt_number": 11
    },
    {
     "cell_type": "markdown",
     "metadata": {},
     "source": [
      "Look at the distribution of distances to see how these percentiles are defining the geographic neighborhoods."
     ]
    },
    {
     "cell_type": "code",
     "collapsed": false,
     "input": [
      "%matplotlib inline\n",
      "n, bins, patches = plt.hist(dist['kmdist'], 50, facecolor = 'blue', alpha = 0.5)\n",
      "plt.xticks(neighborhoods + [np.max(dist['kmdist'])])\n",
      "plt.xlabel('Distance (km)')\n",
      "plt.ylabel('Frequency')\n",
      "fig = plt.gcf()\n",
      "fig.set_size_inches(9,6)\n",
      "plt.show()"
     ],
     "language": "python",
     "metadata": {},
     "outputs": [
      {
       "metadata": {},
       "output_type": "display_data",
       "png": "[encoded data removed]",
       "text": [
        "<matplotlib.figure.Figure at 0xcaed0f0>"
       ]
      }
     ],
     "prompt_number": 12
    },
    {
     "cell_type": "markdown",
     "metadata": {},
     "source": [
      "At this point, we can loop across the definitions of geographic neighborhood and evaluate the proportion of democratic states for each authoritarian country-year."
     ]
    },
    {
     "cell_type": "code",
     "collapsed": false,
     "input": [
      "out_list = []\n",
      "for nn in neighborhoods:\n",
      "    dist_new = dist[dist['kmdist'] <= nn]\n",
      "    exdata_new = pd.merge(exdata, dist_new, left_on = ['cowcode1','cowcode2'], right_on = ['numa','numb'], how = 'left')\n",
      "    exdata_new = exdata_new.dropna()\n",
      "    exdata_new = exdata_new[['cowcode1','year1','democracy2']]\n",
      "    dem_prop = exdata_new.groupby(['cowcode1','year1']).agg('mean')\n",
      "    name_new = 'democ_prop_n' + str(neighborhoods.index(nn))\n",
      "    dem_prop.rename(columns = {'democracy2' : name_new}, inplace = True)\n",
      "    out_list.append(dem_prop)\n",
      "    \n",
      "data = pd.concat(out_list, axis = 1)\n",
      "data.reset_index(inplace = True)\n",
      "data.rename(columns = {'cowcode1' : 'cowcode', 'year1' : 'year'}, inplace = True)\n",
      "print data.shape\n",
      "print data.head()"
     ],
     "language": "python",
     "metadata": {},
     "outputs": [
      {
       "output_type": "stream",
       "stream": "stdout",
       "text": [
        "(4591, 6)\n",
        "   cowcode  year  democ_prop_n0  democ_prop_n1  democ_prop_n2  democ_prop_n3\n",
        "0       40  1953            0.4       0.400000       0.458333       0.500000\n",
        "1       40  1954            0.3       0.333333       0.416667       0.480769\n",
        "2       40  1955            0.2       0.266667       0.375000       0.461538\n",
        "3       40  1956            0.3       0.333333       0.416667       0.480769\n",
        "4       40  1957            0.5       0.533333       0.541667       0.527273\n"
       ]
      }
     ],
     "prompt_number": 13
    },
    {
     "cell_type": "markdown",
     "metadata": {},
     "source": [
      "Now there are four variables corresponding to the proportion of democratic states across the four defined  neighborhoods. We can write this data frame to file, and it will be ready to merge with the GWF data for later use."
     ]
    },
    {
     "cell_type": "code",
     "collapsed": false,
     "input": [
      "data.to_csv('gwf_democratic_neighborhoods.txt')"
     ],
     "language": "python",
     "metadata": {},
     "outputs": [],
     "prompt_number": 14
    }
   ],
   "metadata": {}
  }
 ]
}