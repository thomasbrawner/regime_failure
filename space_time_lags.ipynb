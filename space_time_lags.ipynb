{
 "cells": [
  {
   "cell_type": "markdown",
   "metadata": {},
   "source": [
    "##Generating spatiotemporal lags of regime failure "
   ]
  },
  {
   "cell_type": "markdown",
   "metadata": {},
   "source": [
    "###Preliminaries"
   ]
  },
  {
   "cell_type": "code",
   "execution_count": 1,
   "metadata": {
    "collapsed": false
   },
   "outputs": [
    {
     "name": "stdout",
     "output_type": "stream",
     "text": [
      "Python version 2.7.10 |Anaconda 2.1.0 (x86_64)| (default, May 28 2015, 17:04:42) \n",
      "[GCC 4.2.1 (Apple Inc. build 5577)]\n",
      "Pandas version 0.14.1\n",
      "Numpy version 1.9.2\n"
     ]
    }
   ],
   "source": [
    "%matplotlib inline \n",
    "\n",
    "import requests, zipfile, StringIO\n",
    "import numpy as np\n",
    "import pandas as pd\n",
    "import matplotlib.pyplot as plt\n",
    "import seaborn as sns \n",
    "import sys \n",
    "from datetime import datetime\n",
    "from itertools import product\n",
    "\n",
    "print 'Python version ' + sys.version\n",
    "print 'Pandas version ' + pd.__version__\n",
    "print 'Numpy version ' + np.__version__"
   ]
  },
  {
   "cell_type": "markdown",
   "metadata": {},
   "source": [
    "###Load and clean the spatial weights"
   ]
  },
  {
   "cell_type": "markdown",
   "metadata": {},
   "source": [
    "These include geographic weights, operationalized as the distance in kilometers between capital cities, trade weights, operationalized as the log of combined trading activity between country dyads, and binary linguistic weights, which take a value of 1 when there is overlap in the sets of principal languages for two countries."
   ]
  },
  {
   "cell_type": "code",
   "execution_count": 2,
   "metadata": {
    "collapsed": true
   },
   "outputs": [],
   "source": [
    "# load and clean geographic distance data, scale between 0 and 1, invert\n",
    "dist = pd.read_csv('http://privatewww.essex.ac.uk/~ksg/data/capdist.csv')\n",
    "dist = dist[['numa','numb','kmdist']]\n",
    "dist['kmdist_norm'] = dist['kmdist'] / dist['kmdist'].max()  \n",
    "dist['kmdist_norm'] = dist['kmdist_norm'] * -1 + np.max(dist['kmdist_norm'])\n",
    "dist.drop('kmdist', axis = 1, inplace = True)\n",
    "\n",
    "# load and clean trade distance data, scale between 0 and 1\n",
    "trade = pd.read_table('dyadic_trade_imputed.txt', sep = ',')\n",
    "trade['trade'] = trade['flow1'] + trade['flow2']\n",
    "trade['trade'] = np.log(trade['trade'] + 1)\n",
    "trade['trade_norm'] = trade['trade'] / trade['trade'].max()\n",
    "trade.drop(['flow1','flow2','trade'], axis = 1, inplace = True)\n",
    "trade.dropna(inplace = True)\n",
    "\n",
    "# load linguistic distance data, binary weights\n",
    "lang = pd.read_table('linguistic_distance.txt', sep = ',')"
   ]
  },
  {
   "cell_type": "markdown",
   "metadata": {},
   "source": [
    "###Load a clean the GWF autocratic regime data"
   ]
  },
  {
   "cell_type": "code",
   "execution_count": 3,
   "metadata": {
    "collapsed": false
   },
   "outputs": [
    {
     "data": {
      "text/html": [
       "<div style=\"max-height:1000px;max-width:1500px;overflow:auto;\">\n",
       "<table border=\"1\" class=\"dataframe\">\n",
       "  <thead>\n",
       "    <tr style=\"text-align: right;\">\n",
       "      <th></th>\n",
       "      <th>cowcode</th>\n",
       "      <th>year</th>\n",
       "      <th>date</th>\n",
       "      <th>dateInt</th>\n",
       "      <th>failure</th>\n",
       "      <th>coerce</th>\n",
       "      <th>demtrans</th>\n",
       "      <th>auttrans</th>\n",
       "    </tr>\n",
       "  </thead>\n",
       "  <tbody>\n",
       "    <tr>\n",
       "      <th>0</th>\n",
       "      <td> 40</td>\n",
       "      <td> 1953</td>\n",
       "      <td>1953-12-31</td>\n",
       "      <td> 713318</td>\n",
       "      <td> 0</td>\n",
       "      <td> 0</td>\n",
       "      <td> 0</td>\n",
       "      <td> 0</td>\n",
       "    </tr>\n",
       "    <tr>\n",
       "      <th>1</th>\n",
       "      <td> 40</td>\n",
       "      <td> 1954</td>\n",
       "      <td>1954-12-31</td>\n",
       "      <td> 713683</td>\n",
       "      <td> 0</td>\n",
       "      <td> 0</td>\n",
       "      <td> 0</td>\n",
       "      <td> 0</td>\n",
       "    </tr>\n",
       "    <tr>\n",
       "      <th>2</th>\n",
       "      <td> 40</td>\n",
       "      <td> 1955</td>\n",
       "      <td>1955-12-31</td>\n",
       "      <td> 714048</td>\n",
       "      <td> 0</td>\n",
       "      <td> 0</td>\n",
       "      <td> 0</td>\n",
       "      <td> 0</td>\n",
       "    </tr>\n",
       "    <tr>\n",
       "      <th>3</th>\n",
       "      <td> 40</td>\n",
       "      <td> 1956</td>\n",
       "      <td>1956-12-31</td>\n",
       "      <td> 714414</td>\n",
       "      <td> 0</td>\n",
       "      <td> 0</td>\n",
       "      <td> 0</td>\n",
       "      <td> 0</td>\n",
       "    </tr>\n",
       "    <tr>\n",
       "      <th>4</th>\n",
       "      <td> 40</td>\n",
       "      <td> 1957</td>\n",
       "      <td>1957-12-31</td>\n",
       "      <td> 714779</td>\n",
       "      <td> 0</td>\n",
       "      <td> 0</td>\n",
       "      <td> 0</td>\n",
       "      <td> 0</td>\n",
       "    </tr>\n",
       "  </tbody>\n",
       "</table>\n",
       "</div>"
      ],
      "text/plain": [
       "   cowcode  year       date  dateInt  failure  coerce  demtrans  auttrans\n",
       "0       40  1953 1953-12-31   713318        0       0         0         0\n",
       "1       40  1954 1954-12-31   713683        0       0         0         0\n",
       "2       40  1955 1955-12-31   714048        0       0         0         0\n",
       "3       40  1956 1956-12-31   714414        0       0         0         0\n",
       "4       40  1957 1957-12-31   714779        0       0         0         0"
      ]
     },
     "execution_count": 3,
     "metadata": {},
     "output_type": "execute_result"
    }
   ],
   "source": [
    "# access the data \n",
    "gwf_data_url = 'http://sites.psu.edu/dictators/wp-content/uploads/sites/12570/2015/04/GWF-Autocratic-Regimes-1.2.zip'\n",
    "r = requests.get(gwf_data_url)\n",
    "z = zipfile.ZipFile(StringIO.StringIO(r.content))\n",
    "z.extract('GWF Autocratic Regimes 1.2/GWFtscs.txt');\n",
    "gwf = pd.read_table('GWF Autocratic Regimes 1.2/GWFtscs.txt')\n",
    "\n",
    "# subset to relevant columns\n",
    "gwf = gwf[['cowcode','year','gwf_fail','gwf_enddate','gwf_fail_subsregime','gwf_fail_type']]\n",
    "\n",
    "# apply specific date to observations\n",
    "gwf['end_date'] = pd.to_datetime(gwf['gwf_enddate'], format = '%d%b%Y')\n",
    "gwf['end_year'] = pd.DatetimeIndex(gwf['end_date']).year\n",
    "gwf['date_year'] = gwf['end_year'] != gwf['year']\n",
    "gwf['date'] = np.where(gwf['date_year'] == True, pd.to_datetime('12/31/' + gwf['year'].astype(str)), gwf['end_date'])\n",
    "gwf['dateInt'] = gwf['date'].apply(lambda x: x.to_datetime().date().toordinal())\n",
    "\n",
    "# create coercion, democratic transition, and autocratic transition indicators\n",
    "gwf['coerce'] = (gwf['gwf_fail_type'].isin([4, 5, 6])).astype(int)\n",
    "gwf['demtrans'] = (gwf['gwf_fail_subsregime'] == 1).astype(int)\n",
    "gwf['auttrans'] = (gwf['gwf_fail_subsregime'] == 2).astype(int)\n",
    "\n",
    "# clean up \n",
    "gwf.rename(columns = {'gwf_fail' : 'failure'}, inplace = True)\n",
    "gwf = gwf[['cowcode','year','date','dateInt','failure','coerce','demtrans','auttrans']]\n",
    "gwf.head() "
   ]
  },
  {
   "cell_type": "markdown",
   "metadata": {},
   "source": [
    "###Find the subset of the regime data with observed failures "
   ]
  },
  {
   "cell_type": "code",
   "execution_count": 4,
   "metadata": {
    "collapsed": false
   },
   "outputs": [
    {
     "data": {
      "text/html": [
       "<div style=\"max-height:1000px;max-width:1500px;overflow:auto;\">\n",
       "<table border=\"1\" class=\"dataframe\">\n",
       "  <thead>\n",
       "    <tr style=\"text-align: right;\">\n",
       "      <th></th>\n",
       "      <th>cowcode</th>\n",
       "      <th>year</th>\n",
       "      <th>date</th>\n",
       "      <th>dateInt</th>\n",
       "      <th>failure</th>\n",
       "      <th>coerce</th>\n",
       "      <th>demtrans</th>\n",
       "      <th>auttrans</th>\n",
       "    </tr>\n",
       "  </thead>\n",
       "  <tbody>\n",
       "    <tr>\n",
       "      <th>6 </th>\n",
       "      <td> 40</td>\n",
       "      <td> 1959</td>\n",
       "      <td>1959-01-01</td>\n",
       "      <td> 715145</td>\n",
       "      <td> 1</td>\n",
       "      <td> 1</td>\n",
       "      <td> 0</td>\n",
       "      <td> 1</td>\n",
       "    </tr>\n",
       "    <tr>\n",
       "      <th>58</th>\n",
       "      <td> 41</td>\n",
       "      <td> 1946</td>\n",
       "      <td>1946-01-11</td>\n",
       "      <td> 710407</td>\n",
       "      <td> 1</td>\n",
       "      <td> 1</td>\n",
       "      <td> 1</td>\n",
       "      <td> 0</td>\n",
       "    </tr>\n",
       "    <tr>\n",
       "      <th>64</th>\n",
       "      <td> 41</td>\n",
       "      <td> 1956</td>\n",
       "      <td>1956-12-12</td>\n",
       "      <td> 714395</td>\n",
       "      <td> 1</td>\n",
       "      <td> 1</td>\n",
       "      <td> 0</td>\n",
       "      <td> 1</td>\n",
       "    </tr>\n",
       "    <tr>\n",
       "      <th>93</th>\n",
       "      <td> 41</td>\n",
       "      <td> 1986</td>\n",
       "      <td>1986-02-07</td>\n",
       "      <td> 725044</td>\n",
       "      <td> 1</td>\n",
       "      <td> 1</td>\n",
       "      <td> 0</td>\n",
       "      <td> 1</td>\n",
       "    </tr>\n",
       "    <tr>\n",
       "      <th>95</th>\n",
       "      <td> 41</td>\n",
       "      <td> 1988</td>\n",
       "      <td>1988-09-17</td>\n",
       "      <td> 725997</td>\n",
       "      <td> 1</td>\n",
       "      <td> 1</td>\n",
       "      <td> 0</td>\n",
       "      <td> 1</td>\n",
       "    </tr>\n",
       "  </tbody>\n",
       "</table>\n",
       "</div>"
      ],
      "text/plain": [
       "    cowcode  year       date  dateInt  failure  coerce  demtrans  auttrans\n",
       "6        40  1959 1959-01-01   715145        1       1         0         1\n",
       "58       41  1946 1946-01-11   710407        1       1         1         0\n",
       "64       41  1956 1956-12-12   714395        1       1         0         1\n",
       "93       41  1986 1986-02-07   725044        1       1         0         1\n",
       "95       41  1988 1988-09-17   725997        1       1         0         1"
      ]
     },
     "execution_count": 4,
     "metadata": {},
     "output_type": "execute_result"
    }
   ],
   "source": [
    "events = gwf.query('failure == 1')\n",
    "events.head()"
   ]
  },
  {
   "cell_type": "markdown",
   "metadata": {},
   "source": [
    "###All combinations of observations and events"
   ]
  },
  {
   "cell_type": "markdown",
   "metadata": {},
   "source": [
    "We want to know where each of the observations is located in time with respect to the events. This allows us to subset the events that fall within a provided temporal window in advance of the date given to each observation. "
   ]
  },
  {
   "cell_type": "code",
   "execution_count": 5,
   "metadata": {
    "collapsed": false
   },
   "outputs": [
    {
     "data": {
      "text/html": [
       "<div style=\"max-height:1000px;max-width:1500px;overflow:auto;\">\n",
       "<table border=\"1\" class=\"dataframe\">\n",
       "  <thead>\n",
       "    <tr style=\"text-align: right;\">\n",
       "      <th></th>\n",
       "      <th>idx_target</th>\n",
       "      <th>idx_sender</th>\n",
       "      <th>date_target</th>\n",
       "      <th>date_sender</th>\n",
       "    </tr>\n",
       "  </thead>\n",
       "  <tbody>\n",
       "    <tr>\n",
       "      <th>0</th>\n",
       "      <td> 0</td>\n",
       "      <td>  6</td>\n",
       "      <td> 713318</td>\n",
       "      <td> 715145</td>\n",
       "    </tr>\n",
       "    <tr>\n",
       "      <th>1</th>\n",
       "      <td> 0</td>\n",
       "      <td> 58</td>\n",
       "      <td> 713318</td>\n",
       "      <td> 710407</td>\n",
       "    </tr>\n",
       "    <tr>\n",
       "      <th>2</th>\n",
       "      <td> 0</td>\n",
       "      <td> 64</td>\n",
       "      <td> 713318</td>\n",
       "      <td> 714395</td>\n",
       "    </tr>\n",
       "    <tr>\n",
       "      <th>3</th>\n",
       "      <td> 0</td>\n",
       "      <td> 93</td>\n",
       "      <td> 713318</td>\n",
       "      <td> 725044</td>\n",
       "    </tr>\n",
       "    <tr>\n",
       "      <th>4</th>\n",
       "      <td> 0</td>\n",
       "      <td> 95</td>\n",
       "      <td> 713318</td>\n",
       "      <td> 725997</td>\n",
       "    </tr>\n",
       "  </tbody>\n",
       "</table>\n",
       "</div>"
      ],
      "text/plain": [
       "   idx_target  idx_sender  date_target  date_sender\n",
       "0           0           6       713318       715145\n",
       "1           0          58       713318       710407\n",
       "2           0          64       713318       714395\n",
       "3           0          93       713318       725044\n",
       "4           0          95       713318       725997"
      ]
     },
     "execution_count": 5,
     "metadata": {},
     "output_type": "execute_result"
    }
   ],
   "source": [
    "expanded_dates = list(product(gwf['dateInt'], events['dateInt']))\n",
    "expanded_index = list(product(gwf.index.values, events.index.values))\n",
    "\n",
    "days = pd.concat([pd.DataFrame(expanded_index, columns = ['idx_target','idx_sender']), \n",
    "                  pd.DataFrame(expanded_dates, columns = ['date_target','date_sender'])], \n",
    "                  axis = 1)\n",
    "days.head()"
   ]
  },
  {
   "cell_type": "markdown",
   "metadata": {},
   "source": [
    "###Merge the events and regime information "
   ]
  },
  {
   "cell_type": "code",
   "execution_count": 6,
   "metadata": {
    "collapsed": false
   },
   "outputs": [
    {
     "data": {
      "text/html": [
       "<div style=\"max-height:1000px;max-width:1500px;overflow:auto;\">\n",
       "<table border=\"1\" class=\"dataframe\">\n",
       "  <thead>\n",
       "    <tr style=\"text-align: right;\">\n",
       "      <th></th>\n",
       "      <th>idx_target</th>\n",
       "      <th>idx_sender</th>\n",
       "      <th>date_target</th>\n",
       "      <th>date_sender</th>\n",
       "      <th>cowcode_sender</th>\n",
       "      <th>failure</th>\n",
       "      <th>coerce</th>\n",
       "      <th>demtrans</th>\n",
       "      <th>auttrans</th>\n",
       "      <th>cowcode_target</th>\n",
       "      <th>year</th>\n",
       "    </tr>\n",
       "  </thead>\n",
       "  <tbody>\n",
       "    <tr>\n",
       "      <th>0</th>\n",
       "      <td> 0</td>\n",
       "      <td>  6</td>\n",
       "      <td> 713318</td>\n",
       "      <td> 715145</td>\n",
       "      <td> 40</td>\n",
       "      <td> 1</td>\n",
       "      <td> 1</td>\n",
       "      <td> 0</td>\n",
       "      <td> 1</td>\n",
       "      <td> 40</td>\n",
       "      <td> 1953</td>\n",
       "    </tr>\n",
       "    <tr>\n",
       "      <th>1</th>\n",
       "      <td> 0</td>\n",
       "      <td> 58</td>\n",
       "      <td> 713318</td>\n",
       "      <td> 710407</td>\n",
       "      <td> 41</td>\n",
       "      <td> 1</td>\n",
       "      <td> 1</td>\n",
       "      <td> 1</td>\n",
       "      <td> 0</td>\n",
       "      <td> 40</td>\n",
       "      <td> 1953</td>\n",
       "    </tr>\n",
       "    <tr>\n",
       "      <th>2</th>\n",
       "      <td> 0</td>\n",
       "      <td> 64</td>\n",
       "      <td> 713318</td>\n",
       "      <td> 714395</td>\n",
       "      <td> 41</td>\n",
       "      <td> 1</td>\n",
       "      <td> 1</td>\n",
       "      <td> 0</td>\n",
       "      <td> 1</td>\n",
       "      <td> 40</td>\n",
       "      <td> 1953</td>\n",
       "    </tr>\n",
       "    <tr>\n",
       "      <th>3</th>\n",
       "      <td> 0</td>\n",
       "      <td> 93</td>\n",
       "      <td> 713318</td>\n",
       "      <td> 725044</td>\n",
       "      <td> 41</td>\n",
       "      <td> 1</td>\n",
       "      <td> 1</td>\n",
       "      <td> 0</td>\n",
       "      <td> 1</td>\n",
       "      <td> 40</td>\n",
       "      <td> 1953</td>\n",
       "    </tr>\n",
       "    <tr>\n",
       "      <th>4</th>\n",
       "      <td> 0</td>\n",
       "      <td> 95</td>\n",
       "      <td> 713318</td>\n",
       "      <td> 725997</td>\n",
       "      <td> 41</td>\n",
       "      <td> 1</td>\n",
       "      <td> 1</td>\n",
       "      <td> 0</td>\n",
       "      <td> 1</td>\n",
       "      <td> 40</td>\n",
       "      <td> 1953</td>\n",
       "    </tr>\n",
       "  </tbody>\n",
       "</table>\n",
       "</div>"
      ],
      "text/plain": [
       "   idx_target  idx_sender  date_target  date_sender  cowcode_sender  failure  \\\n",
       "0           0           6       713318       715145              40        1   \n",
       "1           0          58       713318       710407              41        1   \n",
       "2           0          64       713318       714395              41        1   \n",
       "3           0          93       713318       725044              41        1   \n",
       "4           0          95       713318       725997              41        1   \n",
       "\n",
       "   coerce  demtrans  auttrans  cowcode_target  year  \n",
       "0       1         0         1              40  1953  \n",
       "1       1         1         0              40  1953  \n",
       "2       1         0         1              40  1953  \n",
       "3       1         0         1              40  1953  \n",
       "4       1         0         1              40  1953  "
      ]
     },
     "execution_count": 6,
     "metadata": {},
     "output_type": "execute_result"
    }
   ],
   "source": [
    "days = pd.merge(days, events[['cowcode','failure','coerce','demtrans','auttrans']], \n",
    "                left_on = 'idx_sender', right_index = True, how = 'left')\n",
    "days.rename(columns = {'cowcode' : 'cowcode_sender'}, inplace = True)\n",
    "days = pd.merge(days, gwf[['cowcode','year']], left_on = 'idx_target', right_index = True, how = 'left')\n",
    "days.rename(columns = {'cowcode' : 'cowcode_target'}, inplace = True)\n",
    "days.head() "
   ]
  },
  {
   "cell_type": "markdown",
   "metadata": {},
   "source": [
    "###Subset to relevant combinations"
   ]
  },
  {
   "cell_type": "markdown",
   "metadata": {},
   "source": [
    "We want to remove combinations that are comprised of the same country and lagged events that fall outside the desired window. In addition, we want to remove duplicate combinations for the same year, which we may observe, for example, when there is an event in both the sending and target state. In this case, the date attached to the target state captures the event in the sending state for the same calendar year, then also captures the non-event dated December 31 of the previous calendary year. We want to keep only the latter of these. "
   ]
  },
  {
   "cell_type": "code",
   "execution_count": 7,
   "metadata": {
    "collapsed": false
   },
   "outputs": [
    {
     "name": "stdout",
     "output_type": "stream",
     "text": [
      "(16410, 12)\n"
     ]
    }
   ],
   "source": [
    "# drop for same state \n",
    "days = days.query('cowcode_target != cowcode_sender')\n",
    "\n",
    "# drop events outside of one-year window \n",
    "days['time_lag'] = days.eval('date_target - date_sender')\n",
    "days = days.query('time_lag > 0 & time_lag <= 366')\n",
    "\n",
    "# drop country-year duplicates \n",
    "duplicate_check_cols = ['cowcode_target','cowcode_sender','year']\n",
    "days.drop_duplicates(duplicate_check_cols, take_last = True, inplace = True)\n",
    "print days.shape"
   ]
  },
  {
   "cell_type": "markdown",
   "metadata": {},
   "source": [
    "###Generate the lags"
   ]
  },
  {
   "cell_type": "markdown",
   "metadata": {},
   "source": [
    "For each of the distance metrics, merge the distance data with all the lagged events, then aggregate (sum) the distance-weighted events by target state-years. "
   ]
  },
  {
   "cell_type": "code",
   "execution_count": 8,
   "metadata": {
    "collapsed": false
   },
   "outputs": [
    {
     "data": {
      "text/html": [
       "<div style=\"max-height:1000px;max-width:1500px;overflow:auto;\">\n",
       "<table border=\"1\" class=\"dataframe\">\n",
       "  <thead>\n",
       "    <tr style=\"text-align: right;\">\n",
       "      <th></th>\n",
       "      <th>cowcode</th>\n",
       "      <th>year</th>\n",
       "      <th>lag_failure_geog</th>\n",
       "      <th>lag_coerce_geog</th>\n",
       "      <th>lag_failure_trade</th>\n",
       "      <th>lag_coerce_trade</th>\n",
       "      <th>lag_failure_lang</th>\n",
       "      <th>lag_coerce_lang</th>\n",
       "    </tr>\n",
       "  </thead>\n",
       "  <tbody>\n",
       "    <tr>\n",
       "      <th>count</th>\n",
       "      <td> 4522.000000</td>\n",
       "      <td> 4522.000000</td>\n",
       "      <td> 4522.000000</td>\n",
       "      <td> 4522.000000</td>\n",
       "      <td> 2977.000000</td>\n",
       "      <td> 2977.000000</td>\n",
       "      <td> 4395.000000</td>\n",
       "      <td> 4395.000000</td>\n",
       "    </tr>\n",
       "    <tr>\n",
       "      <th>mean</th>\n",
       "      <td>  506.978992</td>\n",
       "      <td> 1979.218266</td>\n",
       "      <td>    2.334771</td>\n",
       "      <td>    1.394671</td>\n",
       "      <td>    0.523360</td>\n",
       "      <td>    0.295157</td>\n",
       "      <td>    0.605688</td>\n",
       "      <td>    0.375427</td>\n",
       "    </tr>\n",
       "    <tr>\n",
       "      <th>std</th>\n",
       "      <td>  216.351650</td>\n",
       "      <td>   16.338920</td>\n",
       "      <td>    1.803281</td>\n",
       "      <td>    1.192691</td>\n",
       "      <td>    0.522187</td>\n",
       "      <td>    0.356195</td>\n",
       "      <td>    0.914364</td>\n",
       "      <td>    0.663185</td>\n",
       "    </tr>\n",
       "    <tr>\n",
       "      <th>min</th>\n",
       "      <td>   40.000000</td>\n",
       "      <td> 1946.000000</td>\n",
       "      <td>    0.005171</td>\n",
       "      <td>    0.000000</td>\n",
       "      <td>    0.000000</td>\n",
       "      <td>    0.000000</td>\n",
       "      <td>    0.000000</td>\n",
       "      <td>    0.000000</td>\n",
       "    </tr>\n",
       "    <tr>\n",
       "      <th>25%</th>\n",
       "      <td>  372.000000</td>\n",
       "      <td> 1967.000000</td>\n",
       "      <td>    0.965308</td>\n",
       "      <td>    0.584609</td>\n",
       "      <td>    0.144361</td>\n",
       "      <td>    0.000000</td>\n",
       "      <td>    0.000000</td>\n",
       "      <td>    0.000000</td>\n",
       "    </tr>\n",
       "    <tr>\n",
       "      <th>50%</th>\n",
       "      <td>  530.000000</td>\n",
       "      <td> 1979.000000</td>\n",
       "      <td>    1.851014</td>\n",
       "      <td>    1.199794</td>\n",
       "      <td>    0.423714</td>\n",
       "      <td>    0.191658</td>\n",
       "      <td>    0.000000</td>\n",
       "      <td>    0.000000</td>\n",
       "    </tr>\n",
       "    <tr>\n",
       "      <th>75%</th>\n",
       "      <td>  678.000000</td>\n",
       "      <td> 1992.000000</td>\n",
       "      <td>    3.007707</td>\n",
       "      <td>    1.998933</td>\n",
       "      <td>    0.715575</td>\n",
       "      <td>    0.484088</td>\n",
       "      <td>    1.000000</td>\n",
       "      <td>    1.000000</td>\n",
       "    </tr>\n",
       "    <tr>\n",
       "      <th>max</th>\n",
       "      <td>  850.000000</td>\n",
       "      <td> 2010.000000</td>\n",
       "      <td>   15.120092</td>\n",
       "      <td>   10.171302</td>\n",
       "      <td>    4.586777</td>\n",
       "      <td>    2.447019</td>\n",
       "      <td>    6.000000</td>\n",
       "      <td>    5.000000</td>\n",
       "    </tr>\n",
       "  </tbody>\n",
       "</table>\n",
       "</div>"
      ],
      "text/plain": [
       "           cowcode         year  lag_failure_geog  lag_coerce_geog  \\\n",
       "count  4522.000000  4522.000000       4522.000000      4522.000000   \n",
       "mean    506.978992  1979.218266          2.334771         1.394671   \n",
       "std     216.351650    16.338920          1.803281         1.192691   \n",
       "min      40.000000  1946.000000          0.005171         0.000000   \n",
       "25%     372.000000  1967.000000          0.965308         0.584609   \n",
       "50%     530.000000  1979.000000          1.851014         1.199794   \n",
       "75%     678.000000  1992.000000          3.007707         1.998933   \n",
       "max     850.000000  2010.000000         15.120092        10.171302   \n",
       "\n",
       "       lag_failure_trade  lag_coerce_trade  lag_failure_lang  lag_coerce_lang  \n",
       "count        2977.000000       2977.000000       4395.000000      4395.000000  \n",
       "mean            0.523360          0.295157          0.605688         0.375427  \n",
       "std             0.522187          0.356195          0.914364         0.663185  \n",
       "min             0.000000          0.000000          0.000000         0.000000  \n",
       "25%             0.144361          0.000000          0.000000         0.000000  \n",
       "50%             0.423714          0.191658          0.000000         0.000000  \n",
       "75%             0.715575          0.484088          1.000000         1.000000  \n",
       "max             4.586777          2.447019          6.000000         5.000000  "
      ]
     },
     "execution_count": 8,
     "metadata": {},
     "output_type": "execute_result"
    }
   ],
   "source": [
    "# geographic distance\n",
    "dist_lags = pd.merge(days, dist, left_on = ['cowcode_target','cowcode_sender'], \n",
    "                     right_on = ['numa','numb'], how = 'left')\n",
    "\n",
    "dist_lags = dist_lags[['cowcode_target','year','kmdist_norm','failure','coerce']]\n",
    "dist_lags.rename(columns = {'cowcode_target' : 'cowcode'}, inplace = True)\n",
    "dist_lags['lag_failure_geog'] = dist_lags.eval('failure * kmdist_norm')\n",
    "dist_lags['lag_coerce_geog'] = dist_lags.eval('coerce * kmdist_norm')\n",
    "dist_lags = dist_lags[['cowcode','year','lag_failure_geog','lag_coerce_geog']].groupby(['cowcode','year']).sum()\n",
    "dist_lags.reset_index(inplace = True)\n",
    "\n",
    "# trade distance\n",
    "trade_lags = pd.merge(days, trade, left_on = ['cowcode_target','cowcode_sender','year'], \n",
    "                      right_on = ['ccode1','ccode2','year'], how = 'left')\n",
    "\n",
    "trade_lags = trade_lags[['cowcode_target','year','trade_norm','failure','coerce']]\n",
    "trade_lags.rename(columns = {'cowcode_target' : 'cowcode'}, inplace = True)\n",
    "trade_lags['lag_failure_trade'] = trade_lags.eval('failure * trade_norm')\n",
    "trade_lags['lag_coerce_trade'] = trade_lags.eval('coerce * trade_norm')\n",
    "trade_lags = trade_lags[['cowcode','year','lag_failure_trade','lag_coerce_trade']].groupby(['cowcode','year']).sum()\n",
    "trade_lags.reset_index(inplace = True)\n",
    "\n",
    "# linguistic distance\n",
    "lang_lags = pd.merge(days, lang, left_on = ['cowcode_target','cowcode_sender'], \n",
    "                     right_on = ['cowcode1','cowcode2'], how = 'left')\n",
    "\n",
    "lang_lags = lang_lags[['cowcode_target','year','connection','failure','coerce']]\n",
    "lang_lags.rename(columns = {'cowcode_target' : 'cowcode'}, inplace = True)\n",
    "lang_lags['lag_failure_lang'] = lang_lags.eval('failure * connection')\n",
    "lang_lags['lag_coerce_lang'] = lang_lags.eval('coerce * connection')\n",
    "lang_lags = lang_lags[['cowcode','year','lag_failure_lang','lag_coerce_lang']].groupby(['cowcode','year']).sum()\n",
    "lang_lags.reset_index(inplace = True)\n",
    "\n",
    "# merge all the resulting lags \n",
    "lags_out = pd.merge(dist_lags, trade_lags, on = ['cowcode','year'])\n",
    "lags_out = pd.merge(lags_out, lang_lags, on = ['cowcode','year'])\n",
    "lags_out.describe()"
   ]
  },
  {
   "cell_type": "markdown",
   "metadata": {},
   "source": [
    "###Distributions of weighted lags of regime failure"
   ]
  },
  {
   "cell_type": "code",
   "execution_count": 9,
   "metadata": {
    "collapsed": false
   },
   "outputs": [
    {
     "data": {
      "image/png": "[encoded data removed]",
      "text/plain": [
       "<matplotlib.figure.Figure at 0x10b727e50>"
      ]
     },
     "metadata": {},
     "output_type": "display_data"
    }
   ],
   "source": [
    "plt.figure(figsize = (10, 5))\n",
    "\n",
    "plt.subplot(131)\n",
    "plt.hist(lags_out['lag_failure_geog'].dropna().values, alpha = 0.5)\n",
    "plt.xlabel('Geography Weighted Lags', labelpad = 10); plt.ylabel('')\n",
    "\n",
    "plt.subplot(132)\n",
    "plt.hist(lags_out['lag_failure_trade'].dropna().values, alpha = 0.5)\n",
    "plt.xlabel('Trade Weighted Lags', labelpad = 10); plt.ylabel('')\n",
    "\n",
    "plt.subplot(133)\n",
    "plt.hist(lags_out['lag_failure_lang'].dropna().values, alpha = 0.5)\n",
    "plt.xlabel('Language Weighted Lags', labelpad = 10); plt.ylabel('')\n",
    "\n",
    "plt.tight_layout() "
   ]
  }
 ],
 "metadata": {
  "kernelspec": {
   "display_name": "Python 2",
   "language": "python",
   "name": "python2"
  },
  "language_info": {
   "codemirror_mode": {
    "name": "ipython",
    "version": 2
   },
   "file_extension": ".py",
   "mimetype": "text/x-python",
   "name": "python",
   "nbconvert_exporter": "python",
   "pygments_lexer": "ipython2",
   "version": "2.7.10"
  }
 },
 "nbformat": 4,
 "nbformat_minor": 0
}
